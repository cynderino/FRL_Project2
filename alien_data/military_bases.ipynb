{
 "cells": [
  {
   "cell_type": "code",
   "execution_count": 1,
   "metadata": {},
   "outputs": [],
   "source": [
    "# Dependencies\n",
    "import sys\n",
    "import pandas as pd\n",
    "from config import mypass\n",
    "from sqlalchemy import create_engine\n",
    "import pymysql\n",
    "pymysql.install_as_MySQLdb()"
   ]
  },
  {
   "cell_type": "code",
   "execution_count": 5,
   "metadata": {},
   "outputs": [],
   "source": [
    "# Store filepath in a variable\n",
    "military_bases = \"Resources/mil_base_updtd.csv\""
   ]
  },
  {
   "cell_type": "code",
   "execution_count": 6,
   "metadata": {},
   "outputs": [],
   "source": [
    "military_bases_df = pd.read_csv(military_bases, encoding ='utf8')"
   ]
  },
  {
   "cell_type": "code",
   "execution_count": 7,
   "metadata": {},
   "outputs": [
    {
     "data": {
      "text/html": [
       "<div>\n",
       "<style scoped>\n",
       "    .dataframe tbody tr th:only-of-type {\n",
       "        vertical-align: middle;\n",
       "    }\n",
       "\n",
       "    .dataframe tbody tr th {\n",
       "        vertical-align: top;\n",
       "    }\n",
       "\n",
       "    .dataframe thead th {\n",
       "        text-align: right;\n",
       "    }\n",
       "</style>\n",
       "<table border=\"1\" class=\"dataframe\">\n",
       "  <thead>\n",
       "    <tr style=\"text-align: right;\">\n",
       "      <th></th>\n",
       "      <th>state_long</th>\n",
       "      <th>state_short</th>\n",
       "      <th>mil_base_name</th>\n",
       "      <th>operational_status</th>\n",
       "      <th>component</th>\n",
       "      <th>lat</th>\n",
       "      <th>long</th>\n",
       "      <th>country</th>\n",
       "    </tr>\n",
       "  </thead>\n",
       "  <tbody>\n",
       "    <tr>\n",
       "      <th>0</th>\n",
       "      <td>Alabama</td>\n",
       "      <td>AL</td>\n",
       "      <td>Fort McClellan ARNG Training Center</td>\n",
       "      <td>Active</td>\n",
       "      <td>Army Guard</td>\n",
       "      <td>33.731637</td>\n",
       "      <td>-85.789886</td>\n",
       "      <td>United States</td>\n",
       "    </tr>\n",
       "    <tr>\n",
       "      <th>1</th>\n",
       "      <td>Alabama</td>\n",
       "      <td>AL</td>\n",
       "      <td>NOLF Summerdale</td>\n",
       "      <td>Active</td>\n",
       "      <td>Navy Active</td>\n",
       "      <td>30.508033</td>\n",
       "      <td>-87.647190</td>\n",
       "      <td>United States</td>\n",
       "    </tr>\n",
       "    <tr>\n",
       "      <th>2</th>\n",
       "      <td>Alabama</td>\n",
       "      <td>AL</td>\n",
       "      <td>Redstone Arsenal</td>\n",
       "      <td>Active</td>\n",
       "      <td>Army Active</td>\n",
       "      <td>34.633164</td>\n",
       "      <td>-86.657219</td>\n",
       "      <td>United States</td>\n",
       "    </tr>\n",
       "    <tr>\n",
       "      <th>3</th>\n",
       "      <td>Alabama</td>\n",
       "      <td>AL</td>\n",
       "      <td>Barin Field</td>\n",
       "      <td>Active</td>\n",
       "      <td>Navy Active</td>\n",
       "      <td>30.391073</td>\n",
       "      <td>-87.631314</td>\n",
       "      <td>United States</td>\n",
       "    </tr>\n",
       "    <tr>\n",
       "      <th>4</th>\n",
       "      <td>Alabama</td>\n",
       "      <td>AL</td>\n",
       "      <td>Toth Stagefield</td>\n",
       "      <td>Active</td>\n",
       "      <td>Army Active</td>\n",
       "      <td>31.228469</td>\n",
       "      <td>-85.558658</td>\n",
       "      <td>United States</td>\n",
       "    </tr>\n",
       "  </tbody>\n",
       "</table>\n",
       "</div>"
      ],
      "text/plain": [
       "  state_long state_short                        mil_base_name  \\\n",
       "0    Alabama          AL  Fort McClellan ARNG Training Center   \n",
       "1    Alabama          AL                      NOLF Summerdale   \n",
       "2    Alabama          AL                     Redstone Arsenal   \n",
       "3    Alabama          AL                          Barin Field   \n",
       "4    Alabama          AL                      Toth Stagefield   \n",
       "\n",
       "  operational_status    component        lat       long        country  \n",
       "0             Active   Army Guard  33.731637 -85.789886  United States  \n",
       "1             Active  Navy Active  30.508033 -87.647190  United States  \n",
       "2             Active  Army Active  34.633164 -86.657219  United States  \n",
       "3             Active  Navy Active  30.391073 -87.631314  United States  \n",
       "4             Active  Army Active  31.228469 -85.558658  United States  "
      ]
     },
     "execution_count": 7,
     "metadata": {},
     "output_type": "execute_result"
    }
   ],
   "source": [
    "# Show just the header\n",
    "military_bases_df.head()"
   ]
  },
  {
   "cell_type": "code",
   "execution_count": 8,
   "metadata": {},
   "outputs": [],
   "source": [
    "military_bases_df.to_csv(\"Output_data/military_bases.csv\")"
   ]
  },
  {
   "cell_type": "code",
   "execution_count": 9,
   "metadata": {},
   "outputs": [],
   "source": [
    "rds_connection_string = f\"root:{mypass}@127.0.0.1/alien_data\"\n",
    "engine = create_engine(f\"mysql://{rds_connection_string}\")"
   ]
  },
  {
   "cell_type": "code",
   "execution_count": 11,
   "metadata": {},
   "outputs": [
    {
     "data": {
      "text/plain": [
       "['military_bases', 'ufo_sightings']"
      ]
     },
     "execution_count": 11,
     "metadata": {},
     "output_type": "execute_result"
    }
   ],
   "source": [
    "# Confirm tables\n",
    "engine.table_names()"
   ]
  },
  {
   "cell_type": "code",
   "execution_count": 12,
   "metadata": {},
   "outputs": [],
   "source": [
    "military_bases_df.reset_index()\n",
    "military_bases_df.to_sql(name='military_bases',\\\n",
    "                           con=engine, if_exists='replace', chunksize=10000)"
   ]
  },
  {
   "cell_type": "code",
   "execution_count": null,
   "metadata": {},
   "outputs": [],
   "source": []
  }
 ],
 "metadata": {
  "kernelspec": {
   "display_name": "Python 3",
   "language": "python",
   "name": "python3"
  },
  "language_info": {
   "codemirror_mode": {
    "name": "ipython",
    "version": 3
   },
   "file_extension": ".py",
   "mimetype": "text/x-python",
   "name": "python",
   "nbconvert_exporter": "python",
   "pygments_lexer": "ipython3",
   "version": "3.6.5"
  }
 },
 "nbformat": 4,
 "nbformat_minor": 2
}
