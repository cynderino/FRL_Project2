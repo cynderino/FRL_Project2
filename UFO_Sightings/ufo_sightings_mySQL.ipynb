{
 "cells": [
  {
   "cell_type": "code",
   "execution_count": 1,
   "metadata": {},
   "outputs": [],
   "source": [
    "# Dependencies\n",
    "import pandas as pd\n",
    "from config import mypass\n",
    "from sqlalchemy import create_engine\n",
    "import pymysql\n",
    "pymysql.install_as_MySQLdb()"
   ]
  },
  {
   "cell_type": "code",
   "execution_count": 2,
   "metadata": {},
   "outputs": [],
   "source": [
    "# Store filepath in a variable\n",
    "ufo_sightings = \"Resources/ufo_clean_revised.csv\""
   ]
  },
  {
   "cell_type": "code",
   "execution_count": 3,
   "metadata": {},
   "outputs": [],
   "source": [
    "ufo_sightings_df = pd.read_csv(ufo_sightings)"
   ]
  },
  {
   "cell_type": "code",
   "execution_count": 4,
   "metadata": {},
   "outputs": [
    {
     "data": {
      "text/html": [
       "<div>\n",
       "<style scoped>\n",
       "    .dataframe tbody tr th:only-of-type {\n",
       "        vertical-align: middle;\n",
       "    }\n",
       "\n",
       "    .dataframe tbody tr th {\n",
       "        vertical-align: top;\n",
       "    }\n",
       "\n",
       "    .dataframe thead th {\n",
       "        text-align: right;\n",
       "    }\n",
       "</style>\n",
       "<table border=\"1\" class=\"dataframe\">\n",
       "  <thead>\n",
       "    <tr style=\"text-align: right;\">\n",
       "      <th></th>\n",
       "      <th>Date Submitted</th>\n",
       "      <th>Date of Sighting</th>\n",
       "      <th>City</th>\n",
       "      <th>ST</th>\n",
       "      <th>Short Description</th>\n",
       "      <th>Unnamed: 5</th>\n",
       "    </tr>\n",
       "  </thead>\n",
       "  <tbody>\n",
       "    <tr>\n",
       "      <th>0</th>\n",
       "      <td>1/1/2018</td>\n",
       "      <td>1/1/2018</td>\n",
       "      <td>Bell Gardens</td>\n",
       "      <td>CA</td>\n",
       "      <td>{dr}hovering orb. jagged movement. disappeared...</td>\n",
       "      <td>NaN</td>\n",
       "    </tr>\n",
       "    <tr>\n",
       "      <th>1</th>\n",
       "      <td>1/1/2018</td>\n",
       "      <td>1/1/2018</td>\n",
       "      <td>Eureka</td>\n",
       "      <td>CA</td>\n",
       "      <td>{dr}Flying then split into two.</td>\n",
       "      <td>NaN</td>\n",
       "    </tr>\n",
       "    <tr>\n",
       "      <th>2</th>\n",
       "      <td>1/6/2018</td>\n",
       "      <td>1/1/2018</td>\n",
       "      <td>Los Angeles</td>\n",
       "      <td>CA</td>\n",
       "      <td>{dr}After I park my truck in the driveway I fe...</td>\n",
       "      <td>NaN</td>\n",
       "    </tr>\n",
       "    <tr>\n",
       "      <th>3</th>\n",
       "      <td>1/2/2018</td>\n",
       "      <td>1/1/2018</td>\n",
       "      <td>Sylmar</td>\n",
       "      <td>CA</td>\n",
       "      <td>{dr}from 2nd story balcony red lights against ...</td>\n",
       "      <td>NaN</td>\n",
       "    </tr>\n",
       "    <tr>\n",
       "      <th>4</th>\n",
       "      <td>1/1/2018</td>\n",
       "      <td>1/1/2018</td>\n",
       "      <td>Denver</td>\n",
       "      <td>CO</td>\n",
       "      <td>{dr}Approx. 12:10 am 1-1-18 we saw hovering ab...</td>\n",
       "      <td>NaN</td>\n",
       "    </tr>\n",
       "  </tbody>\n",
       "</table>\n",
       "</div>"
      ],
      "text/plain": [
       "  Date Submitted Date of Sighting           City   ST  \\\n",
       "0       1/1/2018         1/1/2018  Bell Gardens    CA   \n",
       "1       1/1/2018         1/1/2018         Eureka   CA   \n",
       "2       1/6/2018         1/1/2018    Los Angeles   CA   \n",
       "3       1/2/2018         1/1/2018         Sylmar   CA   \n",
       "4       1/1/2018         1/1/2018         Denver   CO   \n",
       "\n",
       "                                   Short Description Unnamed: 5  \n",
       "0  {dr}hovering orb. jagged movement. disappeared...        NaN  \n",
       "1                    {dr}Flying then split into two.        NaN  \n",
       "2  {dr}After I park my truck in the driveway I fe...        NaN  \n",
       "3  {dr}from 2nd story balcony red lights against ...        NaN  \n",
       "4  {dr}Approx. 12:10 am 1-1-18 we saw hovering ab...        NaN  "
      ]
     },
     "execution_count": 4,
     "metadata": {},
     "output_type": "execute_result"
    }
   ],
   "source": [
    "# Show just the header\n",
    "ufo_sightings_df.head()"
   ]
  },
  {
   "cell_type": "code",
   "execution_count": 5,
   "metadata": {},
   "outputs": [],
   "source": [
    "ufo_sightings2_df = ufo_sightings_df.dropna(axis=0, how='all', thresh=None, subset=None, inplace=False)"
   ]
  },
  {
   "cell_type": "code",
   "execution_count": 6,
   "metadata": {},
   "outputs": [
    {
     "data": {
      "text/plain": [
       "Date Submitted       3555\n",
       "Date of Sighting     3555\n",
       "City                 3555\n",
       "ST                   3555\n",
       "Short Description    3555\n",
       "Unnamed: 5              2\n",
       "dtype: int64"
      ]
     },
     "execution_count": 6,
     "metadata": {},
     "output_type": "execute_result"
    }
   ],
   "source": [
    "ufo_sightings2_df.count()"
   ]
  },
  {
   "cell_type": "code",
   "execution_count": 9,
   "metadata": {},
   "outputs": [
    {
     "data": {
      "text/html": [
       "<div>\n",
       "<style scoped>\n",
       "    .dataframe tbody tr th:only-of-type {\n",
       "        vertical-align: middle;\n",
       "    }\n",
       "\n",
       "    .dataframe tbody tr th {\n",
       "        vertical-align: top;\n",
       "    }\n",
       "\n",
       "    .dataframe thead th {\n",
       "        text-align: right;\n",
       "    }\n",
       "</style>\n",
       "<table border=\"1\" class=\"dataframe\">\n",
       "  <thead>\n",
       "    <tr style=\"text-align: right;\">\n",
       "      <th></th>\n",
       "      <th>Date Submitted</th>\n",
       "      <th>Date of Sighting</th>\n",
       "      <th>City</th>\n",
       "      <th>ST</th>\n",
       "      <th>Short Description</th>\n",
       "    </tr>\n",
       "  </thead>\n",
       "  <tbody>\n",
       "    <tr>\n",
       "      <th>0</th>\n",
       "      <td>1/1/2018</td>\n",
       "      <td>1/1/2018</td>\n",
       "      <td>Bell Gardens</td>\n",
       "      <td>CA</td>\n",
       "      <td>{dr}hovering orb. jagged movement. disappeared...</td>\n",
       "    </tr>\n",
       "    <tr>\n",
       "      <th>1</th>\n",
       "      <td>1/1/2018</td>\n",
       "      <td>1/1/2018</td>\n",
       "      <td>Eureka</td>\n",
       "      <td>CA</td>\n",
       "      <td>{dr}Flying then split into two.</td>\n",
       "    </tr>\n",
       "    <tr>\n",
       "      <th>2</th>\n",
       "      <td>1/6/2018</td>\n",
       "      <td>1/1/2018</td>\n",
       "      <td>Los Angeles</td>\n",
       "      <td>CA</td>\n",
       "      <td>{dr}After I park my truck in the driveway I fe...</td>\n",
       "    </tr>\n",
       "    <tr>\n",
       "      <th>3</th>\n",
       "      <td>1/2/2018</td>\n",
       "      <td>1/1/2018</td>\n",
       "      <td>Sylmar</td>\n",
       "      <td>CA</td>\n",
       "      <td>{dr}from 2nd story balcony red lights against ...</td>\n",
       "    </tr>\n",
       "    <tr>\n",
       "      <th>4</th>\n",
       "      <td>1/1/2018</td>\n",
       "      <td>1/1/2018</td>\n",
       "      <td>Denver</td>\n",
       "      <td>CO</td>\n",
       "      <td>{dr}Approx. 12:10 am 1-1-18 we saw hovering ab...</td>\n",
       "    </tr>\n",
       "  </tbody>\n",
       "</table>\n",
       "</div>"
      ],
      "text/plain": [
       "  Date Submitted Date of Sighting           City   ST  \\\n",
       "0       1/1/2018         1/1/2018  Bell Gardens    CA   \n",
       "1       1/1/2018         1/1/2018         Eureka   CA   \n",
       "2       1/6/2018         1/1/2018    Los Angeles   CA   \n",
       "3       1/2/2018         1/1/2018         Sylmar   CA   \n",
       "4       1/1/2018         1/1/2018         Denver   CO   \n",
       "\n",
       "                                   Short Description  \n",
       "0  {dr}hovering orb. jagged movement. disappeared...  \n",
       "1                    {dr}Flying then split into two.  \n",
       "2  {dr}After I park my truck in the driveway I fe...  \n",
       "3  {dr}from 2nd story balcony red lights against ...  \n",
       "4  {dr}Approx. 12:10 am 1-1-18 we saw hovering ab...  "
      ]
     },
     "execution_count": 9,
     "metadata": {},
     "output_type": "execute_result"
    }
   ],
   "source": [
    "ufo_clean_df = ufo_sightings2_df.drop(columns=\"Unnamed: 5\")\n",
    "ufo_clean_df.head()"
   ]
  },
  {
   "cell_type": "code",
   "execution_count": 10,
   "metadata": {},
   "outputs": [],
   "source": [
    "ufo_clean_df.to_csv(\"output_data/ufo_sightings.csv\")"
   ]
  },
  {
   "cell_type": "code",
   "execution_count": 11,
   "metadata": {},
   "outputs": [],
   "source": [
    "rds_connection_string = f\"root:{mypass}@127.0.0.1/FRL_Project2_db\"\n",
    "engine = create_engine(f\"mysql://{rds_connection_string}\")"
   ]
  },
  {
   "cell_type": "code",
   "execution_count": 12,
   "metadata": {},
   "outputs": [
    {
     "data": {
      "text/plain": [
       "['mil_base', 'ufo_sightings']"
      ]
     },
     "execution_count": 12,
     "metadata": {},
     "output_type": "execute_result"
    }
   ],
   "source": [
    "# Confirm tables\n",
    "engine.table_names()"
   ]
  },
  {
   "cell_type": "code",
   "execution_count": 13,
   "metadata": {},
   "outputs": [],
   "source": [
    "ufo_clean_df.reset_index()\n",
    "ufo_clean_df.to_sql(name='ufo_sightings',\\\n",
    "                           con=engine, if_exists='replace', index=False)"
   ]
  },
  {
   "cell_type": "code",
   "execution_count": null,
   "metadata": {},
   "outputs": [],
   "source": []
  }
 ],
 "metadata": {
  "kernelspec": {
   "display_name": "Python 3",
   "language": "python",
   "name": "python3"
  },
  "language_info": {
   "codemirror_mode": {
    "name": "ipython",
    "version": 3
   },
   "file_extension": ".py",
   "mimetype": "text/x-python",
   "name": "python",
   "nbconvert_exporter": "python",
   "pygments_lexer": "ipython3",
   "version": "3.6.5"
  }
 },
 "nbformat": 4,
 "nbformat_minor": 2
}
